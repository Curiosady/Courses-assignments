{
 "cells": [
  {
   "cell_type": "markdown",
   "metadata": {},
   "source": [
    "# Задание 3.2 - сверточные нейронные сети (CNNs) в PyTorch\n",
    "\n",
    "Это упражнение мы буде выполнять в Google Colab - https://colab.research.google.com/  \n",
    "Google Colab позволяет запускать код в notebook в облаке Google, где можно воспользоваться бесплатным GPU!  \n",
    "\n",
    "Авторы курса благодарят компанию Google и надеятся, что праздник не закончится.\n",
    "\n",
    "Туториал по настройке Google Colab:  \n",
    "https://medium.com/deep-learning-turkey/google-colab-free-gpu-tutorial-e113627b9f5d  \n",
    "(Keras инсталлировать не нужно, наш notebook сам установит PyTorch)\n"
   ]
  },
  {
   "cell_type": "code",
   "execution_count": 1,
   "metadata": {
    "colab": {},
    "colab_type": "code",
    "id": "FcXBeP1O7cnY"
   },
   "outputs": [],
   "source": [
    "# Intstall PyTorch and download data\n",
    "#!pip3 install torch torchvision\n",
    "\n",
    "#!wget -c http://ufldl.stanford.edu/housenumbers/train_32x32.mat http://ufldl.stanford.edu/housenumbers/test_32x32.mat"
   ]
  },
  {
   "cell_type": "code",
   "execution_count": 2,
   "metadata": {
    "colab": {},
    "colab_type": "code",
    "id": "-afwWw-Q85vD"
   },
   "outputs": [],
   "source": [
    "from collections import namedtuple\n",
    "\n",
    "import matplotlib.pyplot as plt\n",
    "import numpy as np\n",
    "import PIL\n",
    "import torch\n",
    "import torch.nn as nn\n",
    "import torch.optim as optim\n",
    "import torchvision.datasets as dset\n",
    "from torch.utils.data.sampler import SubsetRandomSampler\n",
    "\n",
    "from torchvision import transforms"
   ]
  },
  {
   "cell_type": "code",
   "execution_count": 3,
   "metadata": {
    "colab": {},
    "colab_type": "code",
    "id": "NNU-OD9O9ltP"
   },
   "outputs": [],
   "source": [
    "device = torch.device(\"cuda:0\") # Let's make sure GPU is available!"
   ]
  },
  {
   "cell_type": "markdown",
   "metadata": {},
   "source": [
    "# Загружаем данные"
   ]
  },
  {
   "cell_type": "code",
   "execution_count": 4,
   "metadata": {
    "colab": {},
    "colab_type": "code",
    "id": "YAvkoRx-9FsP"
   },
   "outputs": [],
   "source": [
    "# First, lets load the dataset\n",
    "data_train = dset.SVHN('./data',\n",
    "                       split='train',\n",
    "                       transform=transforms.Compose([\n",
    "                           transforms.ToTensor(),\n",
    "                           transforms.Normalize(mean=[0.43,0.44,0.47],\n",
    "                                               std=[0.20,0.20,0.20])                           \n",
    "                       ])\n",
    "                      )\n",
    "data_test = dset.SVHN('./data', split='test', transform=transforms.Compose([\n",
    "                           transforms.ToTensor(),\n",
    "                           transforms.Normalize(mean=[0.43,0.44,0.47],\n",
    "                                               std=[0.20,0.20,0.20])                           \n",
    "                       ]))"
   ]
  },
  {
   "cell_type": "markdown",
   "metadata": {},
   "source": [
    "Разделяем данные на training и validation.\n",
    "\n",
    "На всякий случай для подробностей - https://pytorch.org/tutorials/beginner/data_loading_tutorial.html"
   ]
  },
  {
   "cell_type": "code",
   "execution_count": 5,
   "metadata": {
    "colab": {},
    "colab_type": "code",
    "id": "YRnr8CPg7Hli"
   },
   "outputs": [],
   "source": [
    "batch_size = 64\n",
    "\n",
    "data_size = data_train.data.shape[0]\n",
    "validation_split = .2\n",
    "split = int(np.floor(validation_split * data_size))\n",
    "indices = list(range(data_size))\n",
    "np.random.shuffle(indices)\n",
    "\n",
    "train_indices, val_indices = indices[split:], indices[:split]\n",
    "\n",
    "train_sampler = SubsetRandomSampler(train_indices)\n",
    "val_sampler = SubsetRandomSampler(val_indices)\n",
    "\n",
    "train_loader = torch.utils.data.DataLoader(data_train, batch_size=batch_size, \n",
    "                                           sampler=train_sampler)\n",
    "val_loader = torch.utils.data.DataLoader(data_train, batch_size=batch_size,\n",
    "                                         sampler=val_sampler)"
   ]
  },
  {
   "cell_type": "code",
   "execution_count": 6,
   "metadata": {
    "colab": {},
    "colab_type": "code",
    "id": "LyYvt-T67PBG"
   },
   "outputs": [],
   "source": [
    "# We'll use a special helper module to shape it into a flat tensor\n",
    "class Flattener(nn.Module):\n",
    "    def forward(self, x):\n",
    "        batch_size, *_ = x.shape\n",
    "        return x.view(batch_size, -1)"
   ]
  },
  {
   "cell_type": "markdown",
   "metadata": {},
   "source": [
    "Создадим простейшую сеть с новыми слоями:  \n",
    "Convolutional - `nn.Conv2d`  \n",
    "MaxPool - `nn.MaxPool2d`"
   ]
  },
  {
   "cell_type": "code",
   "execution_count": 18,
   "metadata": {
    "colab": {},
    "colab_type": "code",
    "id": "w9SFVGZP7SQd"
   },
   "outputs": [],
   "source": [
    "nn_model = nn.Sequential(\n",
    "            nn.Conv2d(3, 64, 3, padding=1),\n",
    "            nn.ReLU(inplace=True),\n",
    "            nn.MaxPool2d(4),\n",
    "            nn.Conv2d(64, 64, 3, padding=1),\n",
    "            nn.ReLU(inplace=True),\n",
    "            nn.MaxPool2d(4),    \n",
    "            Flattener(),\n",
    "            nn.Linear(64*2*2, 10),\n",
    "          )\n",
    "\n",
    "nn_model.type(torch.cuda.FloatTensor)\n",
    "nn_model.to(device)\n",
    "\n",
    "loss = nn.CrossEntropyLoss().type(torch.cuda.FloatTensor)\n",
    "optimizer = optim.SGD(nn_model.parameters(), lr=1e-1, weight_decay=1e-4)"
   ]
  },
  {
   "cell_type": "markdown",
   "metadata": {},
   "source": [
    "Восстановите функцию `compute_accuracy` из прошлого задания.  \n",
    "Единственное отличие в новом - она должна передать данные на GPU прежде чем прогонять через модель. Сделайте это так же, как это делает функция `train_model`"
   ]
  },
  {
   "cell_type": "code",
   "execution_count": 8,
   "metadata": {
    "colab": {},
    "colab_type": "code",
    "id": "2ek3KVQK7hJ6"
   },
   "outputs": [
    {
     "name": "stdout",
     "output_type": "stream",
     "text": [
      "Average loss: 1.412779, Train accuracy: 0.528359, Val accuracy: 0.719610\n",
      "Average loss: 0.695346, Train accuracy: 0.787564, Val accuracy: 0.804996\n",
      "Average loss: 0.591255, Train accuracy: 0.821725, Val accuracy: 0.810184\n"
     ]
    }
   ],
   "source": [
    "def train_model(model, train_loader, val_loader, loss, optimizer, num_epochs, step_size=1, scheduler_gamma=1):    \n",
    "    scheduler = optim.lr_scheduler.StepLR(optimizer, step_size=step_size, gamma=scheduler_gamma)\n",
    "    loss_history = []\n",
    "    train_history = []\n",
    "    val_history = []\n",
    "    for epoch in range(num_epochs):\n",
    "        model.train() # Enter train mode\n",
    "\n",
    "        loss_accum = 0\n",
    "        correct_samples = 0\n",
    "        total_samples = 0\n",
    "        for i_step, (x, y) in enumerate(train_loader):\n",
    "          \n",
    "            x_gpu = x.to(device)\n",
    "            y_gpu = y.to(device)\n",
    "            prediction = model(x_gpu)    \n",
    "            loss_value = loss(prediction, y_gpu)\n",
    "            optimizer.zero_grad()\n",
    "            loss_value.backward()\n",
    "            optimizer.step()\n",
    "            \n",
    "            _, indices = torch.max(prediction, 1)\n",
    "            correct_samples += torch.sum(indices == y_gpu)\n",
    "            total_samples += y.shape[0]\n",
    "            \n",
    "            loss_accum += loss_value\n",
    "        \n",
    "        ave_loss = loss_accum / i_step\n",
    "        train_accuracy = float(correct_samples) / total_samples\n",
    "        val_accuracy = compute_accuracy(model, val_loader)\n",
    "        \n",
    "        loss_history.append(float(ave_loss))\n",
    "        train_history.append(train_accuracy)\n",
    "        val_history.append(val_accuracy)\n",
    "        scheduler.step()\n",
    "        print(\"Average loss: %f, Train accuracy: %f, Val accuracy: %f\" % (ave_loss, train_accuracy, val_accuracy))\n",
    "        \n",
    "    return loss_history, train_history, val_history\n",
    "        \n",
    "def compute_accuracy(model, loader):\n",
    "    \"\"\"\n",
    "    Computes accuracy on the dataset wrapped in a loader\n",
    "    \n",
    "    Returns: accuracy as a float value between 0 and 1\n",
    "    \"\"\"\n",
    "    model.eval() # Evaluation mode\n",
    "    # TODO: Copy implementation from previous assignment\n",
    "    # Don't forget to move the data to device before running it through the model!\n",
    "    \n",
    "    correct_samples = 0\n",
    "    total_samples = 0\n",
    "    for x, y in val_loader:\n",
    "            prediction = model(x.to(device))\n",
    "            indices = torch.argmax(prediction, 1)\n",
    "            correct_samples += torch.sum(indices == y.to(device))\n",
    "            total_samples += y.shape[0]\n",
    "            accuracy = float(correct_samples) / total_samples\n",
    "    \n",
    "    return accuracy\n",
    "\n",
    "loss_history, train_history, val_history = train_model(nn_model, train_loader, val_loader, loss, optimizer, 3)"
   ]
  },
  {
   "cell_type": "markdown",
   "metadata": {
    "colab_type": "text",
    "id": "6a-3a1ZFGEw_"
   },
   "source": [
    "# Аугментация данных (Data augmentation)\n",
    "\n",
    "В работе с изображениями одним из особенно важных методов является аугментация данных - то есть, генерация дополнительных данных для тренировки на основе изначальных.   \n",
    "Таким образом, мы получаем возможность \"увеличить\" набор данных для тренировки, что ведет к лучшей работе сети.\n",
    "Важно, чтобы аугментированные данные были похожи на те, которые могут встретиться в реальной жизни, иначе польза от аугментаций уменьшается и может ухудшить работу сети.\n",
    "\n",
    "С PyTorch идут несколько таких алгоритмов, называемых `transforms`. Более подробно про них можно прочитать тут -\n",
    "https://pytorch.org/tutorials/beginner/data_loading_tutorial.html#transforms\n",
    "\n",
    "Ниже мы используем следующие алгоритмы генерации:\n",
    "- ColorJitter - случайное изменение цвета\n",
    "- RandomHorizontalFlip - горизонтальное отражение с вероятностью 50%\n",
    "- RandomVerticalFlip - вертикальное отражение с вероятностью 50%\n",
    "- RandomRotation - случайный поворот"
   ]
  },
  {
   "cell_type": "code",
   "execution_count": 9,
   "metadata": {
    "colab": {},
    "colab_type": "code",
    "id": "jCWMUWmr7t5g"
   },
   "outputs": [],
   "source": [
    "tfs = transforms.Compose([\n",
    "    transforms.ColorJitter(hue=.50, saturation=.50),\n",
    "    transforms.RandomHorizontalFlip(),\n",
    "    transforms.RandomVerticalFlip(),\n",
    "    transforms.RandomRotation(50, resample=PIL.Image.BILINEAR),\n",
    "    transforms.ToTensor(),\n",
    "    transforms.Normalize(mean=[0.43,0.44,0.47],\n",
    "                       std=[0.20,0.20,0.20])                           \n",
    "])\n",
    "\n",
    "# Create augmented train dataset\n",
    "data_aug_train = dset.SVHN('./data',\n",
    "                           split='train',\n",
    "                       transform=tfs\n",
    "                      )\n",
    "\n",
    "train_aug_loader = torch.utils.data.DataLoader(data_aug_train, batch_size=batch_size, \n",
    "                                           sampler=train_sampler)"
   ]
  },
  {
   "cell_type": "markdown",
   "metadata": {},
   "source": [
    "Визуализируем результаты агментации (вообще, смотреть на сгенерированные данные всегда очень полезно)."
   ]
  },
  {
   "cell_type": "code",
   "execution_count": 10,
   "metadata": {
    "colab": {},
    "colab_type": "code",
    "id": "YlJJEro1KZ45"
   },
   "outputs": [
    {
     "data": {
      "image/png": "[encoded data removed]",
      "text/plain": [
       "<Figure size 2160x216 with 10 Axes>"
      ]
     },
     "metadata": {},
     "output_type": "display_data"
    }
   ],
   "source": [
    "# TODO: Visualize some augmented images!\n",
    "# hint: you can create new datasets and loaders to accomplish this\n",
    "\n",
    "# Based on the visualizations, should we keep all the augmentations?\n",
    "\n",
    "tfs = transforms.Compose([\n",
    "    transforms.ColorJitter(hue=.20, saturation=.20),\n",
    "    transforms.RandomHorizontalFlip(),\n",
    "    transforms.RandomVerticalFlip(),\n",
    "    transforms.RandomRotation(10, resample=PIL.Image.BILINEAR),\n",
    "])\n",
    "\n",
    "data_aug_vis = dset.SVHN('./data',\n",
    "                       transform=tfs\n",
    "                      )\n",
    "\n",
    "plt.figure(figsize=(30, 3))\n",
    "\n",
    "for i, (x, y) in enumerate(data_aug_vis):\n",
    "    if i == 10:\n",
    "        break\n",
    "    plt.subplot(1, 10, i+1)\n",
    "    plt.grid(False)\n",
    "    plt.imshow(x)\n",
    "    plt.axis('off')"
   ]
  },
  {
   "cell_type": "markdown",
   "metadata": {
    "colab_type": "text",
    "id": "o2LrmsYHoguB"
   },
   "source": [
    "Все ли агментации одинаково полезны на этом наборе данных? Могут ли быть среди них те, которые собьют модель с толку?\n",
    "\n",
    "Выберите из них только корректные"
   ]
  },
  {
   "cell_type": "code",
   "execution_count": 11,
   "metadata": {
    "colab": {},
    "colab_type": "code",
    "id": "evro9ksXGs9u"
   },
   "outputs": [],
   "source": [
    "# TODO: \n",
    "tfs = transforms.Compose([\n",
    "    # TODO: Add good augmentations\n",
    "    transforms.ColorJitter(hue=.20, saturation=.20),\n",
    "    transforms.RandomRotation(10, resample=PIL.Image.BILINEAR),\n",
    "    transforms.RandomGrayscale(p=0.2),\n",
    "    transforms.ToTensor(),\n",
    "    transforms.Normalize(mean=[0.43,0.44,0.47],\n",
    "                       std=[0.20,0.20,0.20])                           \n",
    "])\n",
    "\n",
    "data_aug_train = dset.SVHN('./data',\n",
    "                       transform=tfs\n",
    "                      )\n",
    "\n",
    "# TODO create new instances of loaders with the augmentations you chose\n",
    "train_aug_loader = torch.utils.data.DataLoader(data_aug_train, batch_size=batch_size, \n",
    "                                           sampler=train_sampler)"
   ]
  },
  {
   "cell_type": "code",
   "execution_count": 12,
   "metadata": {
    "colab": {},
    "colab_type": "code",
    "id": "PeO6Zw0DHqPR"
   },
   "outputs": [
    {
     "name": "stdout",
     "output_type": "stream",
     "text": [
      "Average loss: 0.644567, Train accuracy: 0.802000, Val accuracy: 0.814415\n",
      "Average loss: 0.593847, Train accuracy: 0.819165, Val accuracy: 0.844925\n",
      "Average loss: 0.566194, Train accuracy: 0.829471, Val accuracy: 0.835370\n",
      "Average loss: 0.544776, Train accuracy: 0.832986, Val accuracy: 0.848884\n",
      "Average loss: 0.530802, Train accuracy: 0.838327, Val accuracy: 0.824244\n"
     ]
    }
   ],
   "source": [
    "# Finally, let's train with augmentations!\n",
    "\n",
    "# Note we shouldn't use augmentations on validation\n",
    "\n",
    "loss_history, train_history, val_history = train_model(nn_model, train_aug_loader, val_loader, loss, optimizer, 5)"
   ]
  },
  {
   "cell_type": "markdown",
   "metadata": {
    "colab_type": "text",
    "id": "r0bcioK6JBDK"
   },
   "source": [
    "# LeNet\n",
    "Попробуем имплементировать классическую архитектуру сверточной нейронной сети, предложенную Яном ЛеКуном в 1998 году. В свое время она достигла впечатляющих результатов на MNIST, посмотрим как она справится с SVHN?\n",
    "Она описана в статье [\"Gradient Based Learning Applied to Document Recognition\"](http://yann.lecun.com/exdb/publis/pdf/lecun-01a.pdf), попробуйте прочитать ключевые части и имплементировать предложенную архитетуру на PyTorch.\n",
    "\n",
    "Реализовывать слои и функцию ошибки LeNet, которых нет в PyTorch, **не нужно** - просто возьмите их размеры и переведите в уже известные нам Convolutional, Pooling и Fully Connected layers.\n",
    "\n",
    "Если в статье не очень понятно, можно просто погуглить LeNet и разобраться в деталях :)"
   ]
  },
  {
   "cell_type": "code",
   "execution_count": 19,
   "metadata": {
    "colab": {},
    "colab_type": "code",
    "id": "ieEzZUglJAUB"
   },
   "outputs": [],
   "source": [
    "# TODO: Implement LeNet-like architecture for SVHN task\n",
    "def get_lenet():\n",
    "    lenet_model = nn.Sequential(\n",
    "               nn.Conv2d(3, 6, 5),\n",
    "               nn.ReLU(),\n",
    "               nn.MaxPool2d(2),\n",
    "               nn.Conv2d(6, 16, 5),\n",
    "               nn.ReLU(),\n",
    "               nn.MaxPool2d(2),\n",
    "               Flattener(),\n",
    "               nn.Linear(16*5*5, 120),\n",
    "               nn.ReLU(inplace=True),\n",
    "               nn.Linear(120, 84),\n",
    "               nn.ReLU(inplace=True),\n",
    "               nn.Linear(84, 10)\n",
    "          )\n",
    "    return lenet_model\n",
    "lenet_model = get_lenet()\n",
    "lenet_model.type(torch.cuda.FloatTensor)\n",
    "lenet_model.to(device)\n",
    "\n",
    "loss = nn.CrossEntropyLoss().type(torch.cuda.FloatTensor)\n",
    "optimizer = optim.SGD(lenet_model.parameters(), lr=1e-1, weight_decay=1e-4)"
   ]
  },
  {
   "cell_type": "code",
   "execution_count": 21,
   "metadata": {
    "colab": {},
    "colab_type": "code",
    "id": "WMmaPfdeKk9H"
   },
   "outputs": [
    {
     "name": "stdout",
     "output_type": "stream",
     "text": [
      "Average loss: 1.515485, Train accuracy: 0.480104, Val accuracy: 0.791004\n",
      "Average loss: 0.572802, Train accuracy: 0.829113, Val accuracy: 0.854754\n",
      "Average loss: 0.473964, Train accuracy: 0.858479, Val accuracy: 0.868200\n",
      "Average loss: 0.420118, Train accuracy: 0.874330, Val accuracy: 0.869497\n",
      "Average loss: 0.386553, Train accuracy: 0.883271, Val accuracy: 0.884240\n",
      "Average loss: 0.363584, Train accuracy: 0.890455, Val accuracy: 0.891611\n",
      "Average loss: 0.342257, Train accuracy: 0.896939, Val accuracy: 0.891816\n",
      "Average loss: 0.327538, Train accuracy: 0.901017, Val accuracy: 0.887994\n",
      "Average loss: 0.311947, Train accuracy: 0.906358, Val accuracy: 0.893727\n",
      "Average loss: 0.299954, Train accuracy: 0.908166, Val accuracy: 0.895092\n"
     ]
    }
   ],
   "source": [
    "# Let's train it!\n",
    "loss_history, train_history, val_history = train_model(lenet_model, train_aug_loader, val_loader, loss, optimizer, 10)"
   ]
  },
  {
   "cell_type": "markdown",
   "metadata": {
    "colab_type": "text",
    "id": "u_O9qiYySvuj"
   },
   "source": [
    "# Подбор гиперпараметров"
   ]
  },
  {
   "cell_type": "code",
   "execution_count": 33,
   "metadata": {
    "colab": {},
    "colab_type": "code",
    "id": "i6mhfdQ9K-N3"
   },
   "outputs": [
    {
     "name": "stderr",
     "output_type": "stream",
     "text": [
      "Widget Javascript not detected.  It may not be installed or enabled properly.\n"
     ]
    },
    {
     "data": {
      "application/vnd.jupyter.widget-view+json": {
       "model_id": "8b8c111245af416db1c674435e015d3a"
      }
     },
     "metadata": {},
     "output_type": "display_data"
    },
    {
     "name": "stdout",
     "output_type": "stream",
     "text": [
      "Average loss: 2.291816, Train accuracy: 0.135908, Val accuracy: 0.181353\n",
      "Average loss: 2.281178, Train accuracy: 0.189179, Val accuracy: 0.186404\n",
      "Average loss: 2.279198, Train accuracy: 0.189929, Val accuracy: 0.186404\n",
      "Average loss: 2.278784, Train accuracy: 0.189981, Val accuracy: 0.186404\n",
      "Average loss: 2.278749, Train accuracy: 0.189929, Val accuracy: 0.186404\n",
      "Average loss: 2.278708, Train accuracy: 0.189929, Val accuracy: 0.186404\n",
      "Average loss: 2.278729, Train accuracy: 0.189895, Val accuracy: 0.186404\n",
      "Average loss: 2.247447, Train accuracy: 0.182985, Val accuracy: 0.186335\n",
      "Average loss: 2.216413, Train accuracy: 0.189981, Val accuracy: 0.188110\n",
      "Average loss: 1.867269, Train accuracy: 0.357284, Val accuracy: 0.550338\n",
      "Average loss: 1.031878, Train accuracy: 0.686670, Val accuracy: 0.769982\n",
      "Average loss: 0.773425, Train accuracy: 0.771252, Val accuracy: 0.799331\n",
      "Average loss: 0.657972, Train accuracy: 0.809678, Val accuracy: 0.821582\n",
      "Average loss: 0.631417, Train accuracy: 0.816555, Val accuracy: 0.828954\n",
      "Average loss: 2.303668, Train accuracy: 0.100877, Val accuracy: 0.186404\n",
      "Average loss: 2.280466, Train accuracy: 0.189929, Val accuracy: 0.186335\n",
      "Average loss: 2.261232, Train accuracy: 0.189929, Val accuracy: 0.186335\n",
      "Average loss: 2.251646, Train accuracy: 0.189929, Val accuracy: 0.186335\n",
      "Average loss: 2.247133, Train accuracy: 0.189929, Val accuracy: 0.186335\n",
      "Average loss: 2.244050, Train accuracy: 0.189929, Val accuracy: 0.186335\n",
      "Average loss: 2.241100, Train accuracy: 0.189929, Val accuracy: 0.186335\n",
      "Average loss: 2.298473, Train accuracy: 0.152049, Val accuracy: 0.165791\n",
      "Average loss: 2.296164, Train accuracy: 0.185698, Val accuracy: 0.186335\n",
      "Average loss: 2.293933, Train accuracy: 0.189929, Val accuracy: 0.186335\n",
      "Average loss: 2.291742, Train accuracy: 0.189929, Val accuracy: 0.186335\n",
      "Average loss: 2.289597, Train accuracy: 0.189929, Val accuracy: 0.186335\n",
      "Average loss: 2.287471, Train accuracy: 0.189929, Val accuracy: 0.186335\n",
      "Average loss: 2.285401, Train accuracy: 0.189929, Val accuracy: 0.186335\n",
      "Average loss: 2.302549, Train accuracy: 0.103488, Val accuracy: 0.123268\n",
      "Average loss: 2.300029, Train accuracy: 0.142801, Val accuracy: 0.153300\n",
      "Average loss: 2.297591, Train accuracy: 0.164693, Val accuracy: 0.171046\n",
      "Average loss: 2.295260, Train accuracy: 0.177473, Val accuracy: 0.180875\n",
      "Average loss: 2.292955, Train accuracy: 0.185800, Val accuracy: 0.185380\n",
      "Average loss: 2.290702, Train accuracy: 0.189349, Val accuracy: 0.186472\n",
      "Average loss: 2.288524, Train accuracy: 0.189929, Val accuracy: 0.186335\n",
      "Average loss: 2.287008, Train accuracy: 0.187779, Val accuracy: 0.186472\n",
      "Average loss: 2.273983, Train accuracy: 0.189946, Val accuracy: 0.186335\n",
      "Average loss: 2.263817, Train accuracy: 0.189929, Val accuracy: 0.186335\n",
      "Average loss: 2.255876, Train accuracy: 0.189929, Val accuracy: 0.186335\n",
      "Average loss: 2.249694, Train accuracy: 0.189929, Val accuracy: 0.186335\n",
      "Average loss: 2.245120, Train accuracy: 0.189929, Val accuracy: 0.186335\n",
      "Average loss: 2.241991, Train accuracy: 0.189929, Val accuracy: 0.186335\n",
      "Average loss: 2.252477, Train accuracy: 0.183326, Val accuracy: 0.186335\n",
      "Average loss: 2.185278, Train accuracy: 0.201464, Val accuracy: 0.279913\n",
      "Average loss: 1.514812, Train accuracy: 0.504641, Val accuracy: 0.657771\n",
      "Average loss: 0.931238, Train accuracy: 0.718101, Val accuracy: 0.785407\n",
      "Average loss: 0.725565, Train accuracy: 0.786233, Val accuracy: 0.797420\n",
      "Average loss: 0.630123, Train accuracy: 0.815292, Val accuracy: 0.833800\n",
      "Average loss: 0.569038, Train accuracy: 0.832696, Val accuracy: 0.848679\n",
      "Average loss: 2.307872, Train accuracy: 0.064294, Val accuracy: 0.070098\n",
      "Average loss: 2.305476, Train accuracy: 0.078541, Val accuracy: 0.096853\n",
      "Average loss: 2.303189, Train accuracy: 0.125567, Val accuracy: 0.154665\n",
      "Average loss: 2.300888, Train accuracy: 0.174811, Val accuracy: 0.184834\n",
      "Average loss: 2.298723, Train accuracy: 0.189588, Val accuracy: 0.186335\n",
      "Average loss: 2.296581, Train accuracy: 0.189929, Val accuracy: 0.186335\n",
      "Average loss: 2.294479, Train accuracy: 0.189929, Val accuracy: 0.186335\n",
      "Average loss: 2.249147, Train accuracy: 0.182831, Val accuracy: 0.186335\n",
      "Average loss: 2.189388, Train accuracy: 0.210866, Val accuracy: 0.284554\n",
      "Average loss: 1.532400, Train accuracy: 0.502901, Val accuracy: 0.689100\n",
      "Average loss: 0.825760, Train accuracy: 0.756100, Val accuracy: 0.803699\n",
      "Average loss: 0.667750, Train accuracy: 0.806180, Val accuracy: 0.810457\n",
      "Average loss: 0.582093, Train accuracy: 0.831161, Val accuracy: 0.838373\n",
      "Average loss: 0.565661, Train accuracy: 0.836672, Val accuracy: 0.844379\n",
      "Average loss: 2.250754, Train accuracy: 0.181859, Val accuracy: 0.186335\n",
      "Average loss: 2.230924, Train accuracy: 0.189946, Val accuracy: 0.186335\n",
      "Average loss: 2.160146, Train accuracy: 0.217077, Val accuracy: 0.321207\n",
      "Average loss: 1.515607, Train accuracy: 0.511193, Val accuracy: 0.683298\n",
      "Average loss: 0.892715, Train accuracy: 0.734259, Val accuracy: 0.795782\n",
      "Average loss: 0.717122, Train accuracy: 0.791199, Val accuracy: 0.818715\n",
      "Average loss: 0.639792, Train accuracy: 0.814183, Val accuracy: 0.830455\n",
      "Average loss: 2.302302, Train accuracy: 0.068679, Val accuracy: 0.069620\n",
      "Average loss: 2.300446, Train accuracy: 0.068679, Val accuracy: 0.069620\n",
      "Average loss: 2.298613, Train accuracy: 0.068679, Val accuracy: 0.069552\n",
      "Average loss: 2.296874, Train accuracy: 0.068696, Val accuracy: 0.069688\n",
      "Average loss: 2.295179, Train accuracy: 0.068781, Val accuracy: 0.069620\n",
      "Average loss: 2.293465, Train accuracy: 0.069088, Val accuracy: 0.069825\n",
      "Average loss: 2.291872, Train accuracy: 0.077057, Val accuracy: 0.095830\n",
      "Average loss: 1.477341, Train accuracy: 0.496912, Val accuracy: 0.813187\n",
      "Average loss: 0.562239, Train accuracy: 0.834181, Val accuracy: 0.848065\n",
      "Average loss: 0.465914, Train accuracy: 0.861140, Val accuracy: 0.872568\n",
      "Average loss: 0.414825, Train accuracy: 0.876139, Val accuracy: 0.852979\n",
      "Average loss: 0.383548, Train accuracy: 0.885507, Val accuracy: 0.884854\n",
      "Average loss: 0.299177, Train accuracy: 0.909753, Val accuracy: 0.901440\n",
      "Average loss: 0.279753, Train accuracy: 0.915367, Val accuracy: 0.904921\n",
      "Average loss: 2.285572, Train accuracy: 0.166109, Val accuracy: 0.186335\n",
      "Average loss: 2.272403, Train accuracy: 0.189929, Val accuracy: 0.186335\n",
      "Average loss: 2.262071, Train accuracy: 0.189929, Val accuracy: 0.186335\n",
      "Average loss: 2.253253, Train accuracy: 0.189929, Val accuracy: 0.186335\n",
      "Average loss: 2.245878, Train accuracy: 0.189929, Val accuracy: 0.186335\n",
      "Average loss: 2.240732, Train accuracy: 0.189929, Val accuracy: 0.186335\n",
      "Average loss: 2.238042, Train accuracy: 0.189929, Val accuracy: 0.186335\n",
      "Average loss: 2.242611, Train accuracy: 0.189810, Val accuracy: 0.186335\n",
      "Average loss: 2.241670, Train accuracy: 0.189503, Val accuracy: 0.142379\n",
      "Average loss: 2.241519, Train accuracy: 0.188138, Val accuracy: 0.186335\n",
      "Average loss: 2.242058, Train accuracy: 0.189759, Val accuracy: 0.186335\n",
      "Average loss: 2.241635, Train accuracy: 0.188854, Val accuracy: 0.186335\n",
      "Average loss: 2.241812, Train accuracy: 0.189042, Val accuracy: 0.186335\n",
      "Average loss: 2.241476, Train accuracy: 0.189025, Val accuracy: 0.186335\n",
      "Average loss: 1.454057, Train accuracy: 0.504351, Val accuracy: 0.819057\n",
      "Average loss: 0.572448, Train accuracy: 0.828482, Val accuracy: 0.861443\n",
      "Average loss: 0.474257, Train accuracy: 0.858991, Val accuracy: 0.876937\n",
      "Average loss: 0.421845, Train accuracy: 0.873545, Val accuracy: 0.878984\n",
      "Average loss: 0.393111, Train accuracy: 0.883425, Val accuracy: 0.849976\n",
      "Average loss: 0.368557, Train accuracy: 0.889363, Val accuracy: 0.892158\n",
      "Average loss: 0.349901, Train accuracy: 0.894414, Val accuracy: 0.898437\n",
      "Average loss: 2.250864, Train accuracy: 0.184964, Val accuracy: 0.186335\n",
      "Average loss: 2.233611, Train accuracy: 0.189929, Val accuracy: 0.186335\n",
      "Average loss: 2.233078, Train accuracy: 0.189929, Val accuracy: 0.186335\n",
      "Average loss: 2.232933, Train accuracy: 0.189929, Val accuracy: 0.186335\n",
      "Average loss: 2.232980, Train accuracy: 0.189929, Val accuracy: 0.186335\n",
      "Average loss: 2.232876, Train accuracy: 0.189929, Val accuracy: 0.186335\n",
      "Average loss: 2.232970, Train accuracy: 0.189929, Val accuracy: 0.186335\n",
      "Average loss: 2.251799, Train accuracy: 0.178275, Val accuracy: 0.186335\n"
     ]
    },
    {
     "name": "stdout",
     "output_type": "stream",
     "text": [
      "Average loss: 2.141941, Train accuracy: 0.224670, Val accuracy: 0.333015\n",
      "Average loss: 1.532897, Train accuracy: 0.495359, Val accuracy: 0.638864\n",
      "Average loss: 0.926515, Train accuracy: 0.720865, Val accuracy: 0.748754\n",
      "Average loss: 0.713510, Train accuracy: 0.788110, Val accuracy: 0.819876\n",
      "Average loss: 0.624989, Train accuracy: 0.814490, Val accuracy: 0.834141\n",
      "Average loss: 0.564929, Train accuracy: 0.830905, Val accuracy: 0.840625\n",
      "Average loss: 1.488628, Train accuracy: 0.491195, Val accuracy: 0.797283\n",
      "Average loss: 0.571286, Train accuracy: 0.827970, Val accuracy: 0.858713\n",
      "Average loss: 0.466078, Train accuracy: 0.861021, Val accuracy: 0.846768\n",
      "Average loss: 0.414106, Train accuracy: 0.875661, Val accuracy: 0.880827\n",
      "Average loss: 0.379190, Train accuracy: 0.885251, Val accuracy: 0.888677\n",
      "Average loss: 0.352178, Train accuracy: 0.893714, Val accuracy: 0.893386\n",
      "Average loss: 0.331598, Train accuracy: 0.899737, Val accuracy: 0.896458\n",
      "Average loss: 2.251706, Train accuracy: 0.188223, Val accuracy: 0.186335\n",
      "Average loss: 2.227099, Train accuracy: 0.190783, Val accuracy: 0.191113\n",
      "Average loss: 2.071388, Train accuracy: 0.278555, Val accuracy: 0.447614\n",
      "Average loss: 1.143015, Train accuracy: 0.643876, Val accuracy: 0.761381\n",
      "Average loss: 0.746809, Train accuracy: 0.780057, Val accuracy: 0.815985\n",
      "Average loss: 0.637078, Train accuracy: 0.813142, Val accuracy: 0.834551\n",
      "Average loss: 0.579432, Train accuracy: 0.832048, Val accuracy: 0.840489\n",
      "Average loss: 1.343706, Train accuracy: 0.545030, Val accuracy: 0.807522\n",
      "Average loss: 0.514027, Train accuracy: 0.848275, Val accuracy: 0.867040\n",
      "Average loss: 0.441004, Train accuracy: 0.869689, Val accuracy: 0.874138\n",
      "Average loss: 0.419849, Train accuracy: 0.876037, Val accuracy: 0.878575\n",
      "Average loss: 0.412380, Train accuracy: 0.877982, Val accuracy: 0.879667\n",
      "Average loss: 0.411512, Train accuracy: 0.877333, Val accuracy: 0.880076\n",
      "Average loss: 0.408214, Train accuracy: 0.878511, Val accuracy: 0.880145\n",
      "\n"
     ]
    }
   ],
   "source": [
    "# The key hyperparameters we're going to tune are learning speed, annealing rate and regularization\n",
    "# We also encourage you to try different optimizers as well\n",
    "\n",
    "Hyperparams = namedtuple(\"Hyperparams\", ['learning_rate', 'anneal_coeff', 'anneal_epochs', 'reg'])\n",
    "RunResult = namedtuple(\"RunResult\", ['model', 'train_history', 'val_history', 'final_val_accuracy'])\n",
    "\n",
    "learning_rates = [1e0, 1e-1, 1e-2, 1e-3, 1e-4]\n",
    "anneal_coeff = [0.1, 0.2, 0.3]\n",
    "anneal_epochs = [1, 5, 10, 15, 20, 50]\n",
    "reg = [1e-3, 1e-4, 1e-5, 1e-7]\n",
    "\n",
    "batch_size = 64\n",
    "epoch_num = 7\n",
    "\n",
    "# Record all the runs here\n",
    "# Key should be Hyperparams and values should be RunResult\n",
    "run_record = {} \n",
    "\n",
    "# Use grid search or random search and record all runs in run_record dictionnary \n",
    "# Important: perform search in logarithmic space!\n",
    "train_aug_loader = torch.utils.data.DataLoader(data_aug_train, batch_size=batch_size, \n",
    "                                           sampler=train_sampler)\n",
    "val_loader = torch.utils.data.DataLoader(data_train, batch_size=batch_size,\n",
    "                                         sampler=val_sampler)\n",
    "# TODO: Your code here!\n",
    "\n",
    "from itertools import product\n",
    "from tqdm import tqdm_notebook\n",
    "from random import choices\n",
    "\n",
    "params = list(product(learning_rates, anneal_coeff, anneal_epochs, reg))\n",
    "random_params = choices(params, k=20)\n",
    "for lr, an, ep, reg in tqdm_notebook(random_params):\n",
    "    cur_model = get_lenet()\n",
    "    cur_model.type(torch.cuda.FloatTensor)\n",
    "    cur_model.to(device)\n",
    "    cur_optim = optim.SGD(cur_model.parameters(), lr=lr, weight_decay=reg)\n",
    "    loss_history, train_history, val_history =\\\n",
    "    train_model(cur_model, train_aug_loader,\n",
    "                val_loader, loss, cur_optim,\n",
    "                epoch_num, step_size=ep,\n",
    "                scheduler_gamma=an)\n",
    "    run_record[Hyperparams(lr, an, ep, reg)] = RunResult(cur_model, train_history, val_history, val_history[-1])"
   ]
  },
  {
   "cell_type": "code",
   "execution_count": 34,
   "metadata": {
    "colab": {
     "base_uri": "https://localhost:8080/",
     "height": 34
    },
    "colab_type": "code",
    "id": "Y6xExdw8JB1l",
    "outputId": "a9ad86f8-3e29-45cc-d33f-e6170018a4ed"
   },
   "outputs": [
    {
     "name": "stdout",
     "output_type": "stream",
     "text": [
      "Best validation accuracy: 0.90, best hyperparams: Hyperparams(learning_rate=0.1, anneal_coeff=0.3, anneal_epochs=5, reg=1e-07)\n"
     ]
    }
   ],
   "source": [
    "best_val_accuracy = None\n",
    "best_hyperparams = None\n",
    "best_run = None\n",
    "\n",
    "for hyperparams, run_result in run_record.items():\n",
    "    if best_val_accuracy is None or best_val_accuracy < run_result.final_val_accuracy:\n",
    "        best_val_accuracy = run_result.final_val_accuracy\n",
    "        best_hyperparams = hyperparams\n",
    "        best_run = run_result\n",
    "        \n",
    "print(\"Best validation accuracy: %4.2f, best hyperparams: %s\" % (best_val_accuracy, best_hyperparams))\n",
    "        "
   ]
  },
  {
   "cell_type": "markdown",
   "metadata": {
    "colab_type": "text",
    "id": "LOmsR0uVgtgf"
   },
   "source": [
    "# Свободное упражнение - догоним и перегоним LeNet!\n",
    "\n",
    "Попробуйте найти архитектуру и настройки тренировки, чтобы выступить лучше наших бейзлайнов.\n",
    "\n",
    "Что можно и нужно попробовать:\n",
    "- BatchNormalization (для convolution layers он в PyTorch называется [batchnorm2d](https://pytorch.org/docs/stable/nn.html#batchnorm2d))\n",
    "- Изменить количество слоев и их толщину\n",
    "- Изменять количество эпох тренировки\n",
    "- Попробовать и другие агментации"
   ]
  },
  {
   "cell_type": "code",
   "execution_count": null,
   "metadata": {
    "colab": {},
    "colab_type": "code",
    "id": "tSVhD747icoc"
   },
   "outputs": [],
   "source": [
    "best_model = None"
   ]
  },
  {
   "cell_type": "markdown",
   "metadata": {
    "colab_type": "text",
    "id": "ubeKgBcnhx7N"
   },
   "source": [
    "# Финальный аккорд - проверим лучшую модель на test set\n",
    "\n",
    "В качестве разнообразия - напишите код для прогона модели на test set вы.\n",
    "\n",
    "В результате вы должны натренировать модель, которая покажет более **90%** точности на test set.  \n",
    "Как водится, лучший результат в группе получит дополнительные баллы!"
   ]
  },
  {
   "cell_type": "code",
   "execution_count": null,
   "metadata": {
    "colab": {},
    "colab_type": "code",
    "id": "EIqM1kdeh-hd"
   },
   "outputs": [],
   "source": [
    "# TODO Write the code to compute accuracy on test set\n",
    "final_test_accuracy = 0.0\n",
    "print(\"Final test accuracy - \", final_test_accuracy)"
   ]
  },
  {
   "cell_type": "code",
   "execution_count": null,
   "metadata": {
    "colab": {},
    "colab_type": "code",
    "id": "BfH6qip6kVX_"
   },
   "outputs": [],
   "source": []
  }
 ],
 "metadata": {
  "accelerator": "GPU",
  "colab": {
   "collapsed_sections": [],
   "name": "PyTorch_CNN.ipynb",
   "provenance": [],
   "version": "0.3.2"
  },
  "kernelspec": {
   "display_name": "Python 3",
   "language": "python",
   "name": "python3"
  },
  "language_info": {
   "codemirror_mode": {
    "name": "ipython",
    "version": 3
   },
   "file_extension": ".py",
   "mimetype": "text/x-python",
   "name": "python",
   "nbconvert_exporter": "python",
   "pygments_lexer": "ipython3",
   "version": "3.6.8"
  }
 },
 "nbformat": 4,
 "nbformat_minor": 1
}
