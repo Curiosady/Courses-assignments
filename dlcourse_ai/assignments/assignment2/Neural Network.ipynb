{
 "cells": [
  {
   "cell_type": "markdown",
   "metadata": {},
   "source": [
    "# Задание 2.1 - Нейронные сети\n",
    "\n",
    "В этом задании вы реализуете и натренируете настоящую нейроную сеть своими руками!\n",
    "\n",
    "В некотором смысле это будет расширением прошлого задания - нам нужно просто составить несколько линейных классификаторов вместе!\n",
    "\n",
    "<img src=\"https://i.redd.it/n9fgba8b0qr01.png\" alt=\"Stack_more_layers\" width=\"400px\"/>"
   ]
  },
  {
   "cell_type": "code",
   "execution_count": 1,
   "metadata": {},
   "outputs": [],
   "source": [
    "import numpy as np\n",
    "import matplotlib.pyplot as plt\n",
    "\n",
    "%matplotlib inline\n",
    "\n",
    "%load_ext autoreload\n",
    "%autoreload 2"
   ]
  },
  {
   "cell_type": "code",
   "execution_count": 2,
   "metadata": {},
   "outputs": [],
   "source": [
    "from dataset import load_svhn, random_split_train_val\n",
    "from gradient_check import check_layer_gradient, check_layer_param_gradient, check_model_gradient\n",
    "from layers import FullyConnectedLayer, ReLULayer\n",
    "from model import TwoLayerNet\n",
    "from trainer import Trainer, Dataset\n",
    "from optim import SGD, MomentumSGD\n",
    "from metrics import multiclass_accuracy"
   ]
  },
  {
   "cell_type": "markdown",
   "metadata": {},
   "source": [
    "# Загружаем данные\n",
    "\n",
    "И разделяем их на training и validation."
   ]
  },
  {
   "cell_type": "code",
   "execution_count": 3,
   "metadata": {},
   "outputs": [],
   "source": [
    "def prepare_for_neural_network(train_X, test_X):\n",
    "    train_flat = train_X.reshape(train_X.shape[0], -1).astype(np.float) / 255.0\n",
    "    test_flat = test_X.reshape(test_X.shape[0], -1).astype(np.float) / 255.0\n",
    "    \n",
    "    # Subtract mean\n",
    "    mean_image = np.mean(train_flat, axis = 0)\n",
    "    train_flat -= mean_image\n",
    "    test_flat -= mean_image\n",
    "    \n",
    "    return train_flat, test_flat\n",
    "    \n",
    "train_X, train_y, test_X, test_y = load_svhn(\"data\", max_train=10000, max_test=1000)    \n",
    "train_X, test_X = prepare_for_neural_network(train_X, test_X)\n",
    "# Split train into train and val\n",
    "train_X, train_y, val_X, val_y = random_split_train_val(train_X, train_y, num_val = 1000)"
   ]
  },
  {
   "cell_type": "markdown",
   "metadata": {},
   "source": [
    "# Как всегда, начинаем с кирпичиков\n",
    "\n",
    "Мы будем реализовывать необходимые нам слои по очереди. Каждый слой должен реализовать:\n",
    "- прямой проход (forward pass), который генерирует выход слоя по входу и запоминает необходимые данные\n",
    "- обратный проход (backward pass), который получает градиент по выходу слоя и вычисляет градиент по входу и по параметрам\n",
    "\n",
    "Начнем с ReLU, у которого параметров нет."
   ]
  },
  {
   "cell_type": "code",
   "execution_count": 4,
   "metadata": {
    "scrolled": false
   },
   "outputs": [
    {
     "name": "stdout",
     "output_type": "stream",
     "text": [
      "Gradient check passed!\n"
     ]
    }
   ],
   "source": [
    "# TODO: Implement ReLULayer layer in layers.py\n",
    "# Note: you'll need to copy implementation of the gradient_check function from the previous assignment\n",
    "\n",
    "X = np.array([[1,-2,3],\n",
    "              [-1, 2, 0.1]\n",
    "              ])\n",
    "\n",
    "assert check_layer_gradient(ReLULayer(), X)"
   ]
  },
  {
   "cell_type": "markdown",
   "metadata": {},
   "source": [
    "А теперь реализуем полносвязный слой (fully connected layer), у которого будет два массива параметров: W (weights) и B (bias).\n",
    "\n",
    "Все параметры наши слои будут использовать для параметров специальный класс `Param`, в котором будут храниться значения параметров и градиенты этих параметров, вычисляемые во время обратного прохода.\n",
    "\n",
    "Это даст возможность аккумулировать (суммировать) градиенты из разных частей функции потерь, например, из cross-entropy loss и regularization loss."
   ]
  },
  {
   "cell_type": "code",
   "execution_count": 5,
   "metadata": {},
   "outputs": [
    {
     "name": "stdout",
     "output_type": "stream",
     "text": [
      "Gradient check passed!\n",
      "Gradient check passed!\n",
      "Gradient check passed!\n"
     ]
    }
   ],
   "source": [
    "# TODO: Implement FullyConnected layer forward and backward methods\n",
    "assert check_layer_gradient(FullyConnectedLayer(3, 4), X)\n",
    "# TODO: Implement storing gradients for W and B\n",
    "assert check_layer_param_gradient(FullyConnectedLayer(3, 4), X, 'W')\n",
    "assert check_layer_param_gradient(FullyConnectedLayer(3, 4), X, 'B')"
   ]
  },
  {
   "cell_type": "markdown",
   "metadata": {},
   "source": [
    "## Создаем нейронную сеть\n",
    "\n",
    "Теперь мы реализуем простейшую нейронную сеть с двумя полносвязным слоями и нелинейностью ReLU. Реализуйте функцию `compute_loss_and_gradients`, она должна запустить прямой и обратный проход через оба слоя для вычисления градиентов.\n",
    "\n",
    "Не забудьте реализовать очистку градиентов в начале функции."
   ]
  },
  {
   "cell_type": "code",
   "execution_count": 6,
   "metadata": {},
   "outputs": [
    {
     "name": "stdout",
     "output_type": "stream",
     "text": [
      "Checking gradient for W1\n",
      "Gradient check passed!\n",
      "Checking gradient for b1\n",
      "Gradient check passed!\n",
      "Checking gradient for W2\n",
      "Gradient check passed!\n",
      "Checking gradient for b2\n",
      "Gradient check passed!\n"
     ]
    },
    {
     "data": {
      "text/plain": [
       "True"
      ]
     },
     "execution_count": 6,
     "metadata": {},
     "output_type": "execute_result"
    }
   ],
   "source": [
    "# TODO: In model.py, implement compute_loss_and_gradients function\n",
    "model = TwoLayerNet(n_input = train_X.shape[1], n_output = 10, hidden_layer_size = 3, reg = 0)\n",
    "loss = model.compute_loss_and_gradients(train_X[:2], train_y[:2])\n",
    "\n",
    "# TODO Now implement backward pass and aggregate all of the params\n",
    "check_model_gradient(model, train_X[:2], train_y[:2])"
   ]
  },
  {
   "cell_type": "markdown",
   "metadata": {},
   "source": [
    "Теперь добавьте к модели регуляризацию - она должна прибавляться к loss и делать свой вклад в градиенты."
   ]
  },
  {
   "cell_type": "code",
   "execution_count": 57,
   "metadata": {},
   "outputs": [
    {
     "name": "stdout",
     "output_type": "stream",
     "text": [
      "Checking gradient for W1\n",
      "Gradients are different at (459, 0). Analytic: -0.00000, Numeric: 0.00008\n"
     ]
    },
    {
     "data": {
      "text/plain": [
       "False"
      ]
     },
     "execution_count": 57,
     "metadata": {},
     "output_type": "execute_result"
    }
   ],
   "source": [
    "# TODO Now implement l2 regularization in the forward and backward pass\n",
    "model_with_reg = TwoLayerNet(n_input = train_X.shape[1], n_output = 10, hidden_layer_size = 3, reg = 1e1)\n",
    "loss_with_reg = model_with_reg.compute_loss_and_gradients(train_X[:2], train_y[:2])\n",
    "assert loss_with_reg > loss and not np.isclose(loss_with_reg, loss), \\\n",
    "    \"Loss with regularization (%2.4f) should be higher than without it (%2.4f)!\" % (loss, loss_with_reg)\n",
    "\n",
    "check_model_gradient(model_with_reg, train_X[:2], train_y[:2])"
   ]
  },
  {
   "cell_type": "markdown",
   "metadata": {},
   "source": [
    "Также реализуем функцию предсказания (вычисления значения) модели на новых данных.\n",
    "\n",
    "Какое значение точности мы ожидаем увидеть до начала тренировки?"
   ]
  },
  {
   "cell_type": "code",
   "execution_count": 8,
   "metadata": {},
   "outputs": [
    {
     "data": {
      "text/plain": [
       "0.1"
      ]
     },
     "execution_count": 8,
     "metadata": {},
     "output_type": "execute_result"
    }
   ],
   "source": [
    "# Finally, implement predict function!\n",
    "\n",
    "# TODO: Implement predict function\n",
    "# What would be the value we expect?\n",
    "multiclass_accuracy(model_with_reg.predict(train_X[:30]), train_y[:30]) "
   ]
  },
  {
   "cell_type": "markdown",
   "metadata": {},
   "source": [
    "# Допишем код для процесса тренировки\n",
    "\n",
    "Если все реализовано корректно, значение функции ошибки должно уменьшаться с каждой эпохой, пусть и медленно. Не беспокойтесь пока про validation accuracy."
   ]
  },
  {
   "cell_type": "code",
   "execution_count": 9,
   "metadata": {},
   "outputs": [
    {
     "name": "stdout",
     "output_type": "stream",
     "text": [
      "Loss: 44.281535, Train accuracy: 0.230889, val accuracy: 0.252000\n",
      "Loss: 38.702019, Train accuracy: 0.428667, val accuracy: 0.434000\n",
      "Loss: 30.481434, Train accuracy: 0.514444, val accuracy: 0.530000\n",
      "Loss: 25.930411, Train accuracy: 0.604667, val accuracy: 0.587000\n",
      "Loss: 23.011730, Train accuracy: 0.671111, val accuracy: 0.651000\n",
      "Loss: 21.149931, Train accuracy: 0.710889, val accuracy: 0.680000\n",
      "Loss: 19.614827, Train accuracy: 0.713111, val accuracy: 0.682000\n",
      "Loss: 18.539986, Train accuracy: 0.747222, val accuracy: 0.689000\n",
      "Loss: 17.447548, Train accuracy: 0.738556, val accuracy: 0.706000\n",
      "Loss: 16.414229, Train accuracy: 0.755222, val accuracy: 0.704000\n",
      "Loss: 15.900674, Train accuracy: 0.769778, val accuracy: 0.715000\n",
      "Loss: 15.080308, Train accuracy: 0.775000, val accuracy: 0.712000\n",
      "Loss: 14.521735, Train accuracy: 0.787111, val accuracy: 0.713000\n",
      "Loss: 13.988136, Train accuracy: 0.798000, val accuracy: 0.710000\n",
      "Loss: 13.445828, Train accuracy: 0.792000, val accuracy: 0.716000\n",
      "Loss: 12.838571, Train accuracy: 0.798444, val accuracy: 0.706000\n",
      "Loss: 12.409631, Train accuracy: 0.810889, val accuracy: 0.711000\n",
      "Loss: 12.013539, Train accuracy: 0.790889, val accuracy: 0.716000\n",
      "Loss: 11.392509, Train accuracy: 0.839778, val accuracy: 0.736000\n",
      "Loss: 11.003433, Train accuracy: 0.854889, val accuracy: 0.732000\n"
     ]
    }
   ],
   "source": [
    "model = TwoLayerNet(n_input = train_X.shape[1], n_output = 10, hidden_layer_size = 100, reg = 1e-5)\n",
    "dataset = Dataset(train_X, train_y, val_X, val_y)\n",
    "trainer = Trainer(model, dataset, SGD(), learning_rate = 1e-1)\n",
    "\n",
    "# TODO Implement missing pieces in Trainer.fit function\n",
    "# You should expect loss to go down every epoch, even if it's slow\n",
    "loss_history, train_history, val_history = trainer.fit()"
   ]
  },
  {
   "cell_type": "code",
   "execution_count": 10,
   "metadata": {},
   "outputs": [
    {
     "data": {
      "text/plain": [
       "[<matplotlib.lines.Line2D at 0x7f3744cc35f8>]"
      ]
     },
     "execution_count": 10,
     "metadata": {},
     "output_type": "execute_result"
    },
    {
     "data": {
      "image/png": "[encoded data removed]",
      "text/plain": [
       "<Figure size 432x288 with 1 Axes>"
      ]
     },
     "metadata": {},
     "output_type": "display_data"
    }
   ],
   "source": [
    "plt.plot(train_history)\n",
    "plt.plot(val_history)"
   ]
  },
  {
   "cell_type": "markdown",
   "metadata": {},
   "source": [
    "# Улучшаем процесс тренировки\n",
    "\n",
    "Мы реализуем несколько ключевых оптимизаций, необходимых для тренировки современных нейросетей."
   ]
  },
  {
   "cell_type": "markdown",
   "metadata": {},
   "source": [
    "## Уменьшение скорости обучения (learning rate decay)\n",
    "\n",
    "Одна из необходимых оптимизаций во время тренировки нейронных сетей - постепенное уменьшение скорости обучения по мере тренировки.\n",
    "\n",
    "Один из стандартных методов - уменьшение скорости обучения (learning rate) каждые N эпох на коэффициент d (часто называемый decay). Значения N и d, как всегда, являются гиперпараметрами и должны подбираться на основе эффективности на проверочных данных (validation data). \n",
    "\n",
    "В нашем случае N будет равным 1."
   ]
  },
  {
   "cell_type": "code",
   "execution_count": 11,
   "metadata": {},
   "outputs": [
    {
     "name": "stdout",
     "output_type": "stream",
     "text": [
      "Loss: 44.338234, Train accuracy: 0.238000, val accuracy: 0.254000\n",
      "Loss: 38.983177, Train accuracy: 0.434889, val accuracy: 0.431000\n",
      "Loss: 31.009837, Train accuracy: 0.540556, val accuracy: 0.537000\n",
      "Loss: 25.991741, Train accuracy: 0.640333, val accuracy: 0.623000\n",
      "Loss: 22.795189, Train accuracy: 0.681222, val accuracy: 0.652000\n",
      "Loss: 20.934195, Train accuracy: 0.704778, val accuracy: 0.696000\n",
      "Loss: 19.528754, Train accuracy: 0.728778, val accuracy: 0.709000\n",
      "Loss: 18.264198, Train accuracy: 0.738778, val accuracy: 0.694000\n",
      "Loss: 17.251827, Train accuracy: 0.754556, val accuracy: 0.698000\n",
      "Loss: 16.170509, Train accuracy: 0.774778, val accuracy: 0.723000\n",
      "Loss: 15.147749, Train accuracy: 0.764667, val accuracy: 0.724000\n",
      "Loss: 14.409980, Train accuracy: 0.801889, val accuracy: 0.725000\n",
      "Loss: 13.613377, Train accuracy: 0.801222, val accuracy: 0.713000\n",
      "Loss: 12.962846, Train accuracy: 0.821444, val accuracy: 0.732000\n",
      "Loss: 12.296437, Train accuracy: 0.808556, val accuracy: 0.717000\n",
      "Loss: 11.855794, Train accuracy: 0.839222, val accuracy: 0.752000\n",
      "Loss: 11.322971, Train accuracy: 0.820556, val accuracy: 0.720000\n",
      "Loss: 11.051962, Train accuracy: 0.866556, val accuracy: 0.751000\n",
      "Loss: 10.515392, Train accuracy: 0.855333, val accuracy: 0.723000\n",
      "Loss: 9.995242, Train accuracy: 0.858444, val accuracy: 0.750000\n"
     ]
    }
   ],
   "source": [
    "# TODO Implement learning rate decay inside Trainer.fit method\n",
    "# Decay should happen once per epoch\n",
    "\n",
    "model = TwoLayerNet(n_input = train_X.shape[1], n_output = 10, hidden_layer_size = 100, reg = 1e-5)\n",
    "dataset = Dataset(train_X, train_y, val_X, val_y)\n",
    "trainer = Trainer(model, dataset, SGD(), learning_rate= 1e-1, learning_rate_decay=0.99)\n",
    "\n",
    "initial_learning_rate = trainer.learning_rate\n",
    "loss_history, train_history, val_history = trainer.fit()\n",
    "\n",
    "assert trainer.learning_rate < initial_learning_rate, \"Learning rate should've been reduced\"\n",
    "assert trainer.learning_rate > 0.5*initial_learning_rate, \"Learning rate shouldn'tve been reduced that much!\""
   ]
  },
  {
   "cell_type": "markdown",
   "metadata": {},
   "source": [
    "# Накопление импульса (Momentum SGD)\n",
    "\n",
    "Другой большой класс оптимизаций - использование более эффективных методов градиентного спуска. Мы реализуем один из них - накопление импульса (Momentum SGD).\n",
    "\n",
    "Этот метод хранит скорость движения, использует градиент для ее изменения на каждом шаге, и изменяет веса пропорционально значению скорости.\n",
    "(Физическая аналогия: Вместо скорости градиенты теперь будут задавать ускорение, но будет присутствовать сила трения.)\n",
    "\n",
    "```\n",
    "velocity = momentum * velocity - learning_rate * gradient \n",
    "w = w + velocity\n",
    "```\n",
    "\n",
    "`momentum` здесь коэффициент затухания, который тоже является гиперпараметром (к счастью, для него часто есть хорошее значение по умолчанию, типичный диапазон -- 0.8-0.99).\n",
    "\n",
    "Несколько полезных ссылок, где метод разбирается более подробно:  \n",
    "http://cs231n.github.io/neural-networks-3/#sgd  \n",
    "https://distill.pub/2017/momentum/"
   ]
  },
  {
   "cell_type": "code",
   "execution_count": 12,
   "metadata": {},
   "outputs": [
    {
     "name": "stdout",
     "output_type": "stream",
     "text": [
      "Loss: 44.548358, Train accuracy: 0.197333, val accuracy: 0.206000\n",
      "Loss: 39.814899, Train accuracy: 0.355222, val accuracy: 0.358000\n",
      "Loss: 31.308936, Train accuracy: 0.554000, val accuracy: 0.547000\n",
      "Loss: 25.665921, Train accuracy: 0.609222, val accuracy: 0.590000\n",
      "Loss: 22.533893, Train accuracy: 0.673889, val accuracy: 0.653000\n",
      "Loss: 20.936159, Train accuracy: 0.671222, val accuracy: 0.662000\n",
      "Loss: 19.490325, Train accuracy: 0.727556, val accuracy: 0.678000\n",
      "Loss: 18.053598, Train accuracy: 0.728889, val accuracy: 0.666000\n",
      "Loss: 17.223844, Train accuracy: 0.750222, val accuracy: 0.703000\n",
      "Loss: 16.372134, Train accuracy: 0.773000, val accuracy: 0.697000\n",
      "Loss: 15.384656, Train accuracy: 0.783444, val accuracy: 0.709000\n",
      "Loss: 14.520239, Train accuracy: 0.811667, val accuracy: 0.725000\n",
      "Loss: 13.847337, Train accuracy: 0.829333, val accuracy: 0.728000\n",
      "Loss: 12.983972, Train accuracy: 0.804000, val accuracy: 0.719000\n",
      "Loss: 12.518401, Train accuracy: 0.835000, val accuracy: 0.731000\n",
      "Loss: 12.048469, Train accuracy: 0.829111, val accuracy: 0.744000\n",
      "Loss: 11.479455, Train accuracy: 0.835778, val accuracy: 0.732000\n",
      "Loss: 10.669328, Train accuracy: 0.836111, val accuracy: 0.727000\n",
      "Loss: 10.481025, Train accuracy: 0.869444, val accuracy: 0.763000\n",
      "Loss: 10.102557, Train accuracy: 0.863222, val accuracy: 0.741000\n"
     ]
    }
   ],
   "source": [
    "# TODO: Implement MomentumSGD.update function in optim.py\n",
    "\n",
    "model = TwoLayerNet(n_input = train_X.shape[1], n_output = 10, hidden_layer_size = 100, reg = 1e-5)\n",
    "dataset = Dataset(train_X, train_y, val_X, val_y)\n",
    "trainer = Trainer(model, dataset, MomentumSGD(), learning_rate=1e-2, learning_rate_decay=0.99)\n",
    "\n",
    "# You should see even better results than before!\n",
    "loss_history, train_history, val_history = trainer.fit()"
   ]
  },
  {
   "cell_type": "markdown",
   "metadata": {},
   "source": [
    "# Ну что, давайте уже тренировать сеть!"
   ]
  },
  {
   "cell_type": "markdown",
   "metadata": {},
   "source": [
    "## Последний тест - переобучимся (overfit) на маленьком наборе данных\n",
    "\n",
    "Хороший способ проверить, все ли реализовано корректно - переобучить сеть на маленьком наборе данных.  \n",
    "Наша модель обладает достаточной мощностью, чтобы приблизить маленький набор данных идеально, поэтому мы ожидаем, что на нем мы быстро дойдем до 100% точности на тренировочном наборе. \n",
    "\n",
    "Если этого не происходит, то где-то была допущена ошибка!"
   ]
  },
  {
   "cell_type": "code",
   "execution_count": 13,
   "metadata": {},
   "outputs": [
    {
     "name": "stdout",
     "output_type": "stream",
     "text": [
      "Loss: 11.543493, Train accuracy: 0.333333, val accuracy: 0.066667\n",
      "Loss: 11.467804, Train accuracy: 0.266667, val accuracy: 0.066667\n",
      "Loss: 11.414616, Train accuracy: 0.200000, val accuracy: 0.066667\n",
      "Loss: 11.376256, Train accuracy: 0.200000, val accuracy: 0.066667\n",
      "Loss: 11.312835, Train accuracy: 0.200000, val accuracy: 0.066667\n",
      "Loss: 11.228180, Train accuracy: 0.200000, val accuracy: 0.066667\n",
      "Loss: 11.144667, Train accuracy: 0.266667, val accuracy: 0.000000\n",
      "Loss: 10.913068, Train accuracy: 0.400000, val accuracy: 0.000000\n",
      "Loss: 10.594115, Train accuracy: 0.400000, val accuracy: 0.000000\n",
      "Loss: 9.946964, Train accuracy: 0.400000, val accuracy: 0.000000\n",
      "Loss: 9.388802, Train accuracy: 0.400000, val accuracy: 0.000000\n",
      "Loss: 8.935017, Train accuracy: 0.400000, val accuracy: 0.000000\n",
      "Loss: 8.896434, Train accuracy: 0.400000, val accuracy: 0.000000\n",
      "Loss: 8.289398, Train accuracy: 0.400000, val accuracy: 0.000000\n",
      "Loss: 8.114202, Train accuracy: 0.400000, val accuracy: 0.000000\n",
      "Loss: 8.022371, Train accuracy: 0.400000, val accuracy: 0.000000\n",
      "Loss: 7.752009, Train accuracy: 0.466667, val accuracy: 0.000000\n",
      "Loss: 7.725808, Train accuracy: 0.466667, val accuracy: 0.000000\n",
      "Loss: 7.461885, Train accuracy: 0.466667, val accuracy: 0.066667\n",
      "Loss: 7.340891, Train accuracy: 0.466667, val accuracy: 0.000000\n",
      "Loss: 6.986910, Train accuracy: 0.466667, val accuracy: 0.000000\n",
      "Loss: 6.810799, Train accuracy: 0.466667, val accuracy: 0.066667\n",
      "Loss: 6.562928, Train accuracy: 0.466667, val accuracy: 0.066667\n",
      "Loss: 6.376349, Train accuracy: 0.533333, val accuracy: 0.066667\n",
      "Loss: 5.939696, Train accuracy: 0.600000, val accuracy: 0.066667\n",
      "Loss: 5.790095, Train accuracy: 0.600000, val accuracy: 0.066667\n",
      "Loss: 5.566800, Train accuracy: 0.666667, val accuracy: 0.066667\n",
      "Loss: 5.450697, Train accuracy: 0.666667, val accuracy: 0.066667\n",
      "Loss: 5.459505, Train accuracy: 0.666667, val accuracy: 0.000000\n",
      "Loss: 5.235696, Train accuracy: 0.733333, val accuracy: 0.066667\n",
      "Loss: 4.849833, Train accuracy: 0.733333, val accuracy: 0.066667\n",
      "Loss: 4.525030, Train accuracy: 0.800000, val accuracy: 0.066667\n",
      "Loss: 4.291042, Train accuracy: 0.800000, val accuracy: 0.066667\n",
      "Loss: 4.102038, Train accuracy: 0.800000, val accuracy: 0.133333\n",
      "Loss: 3.984619, Train accuracy: 0.733333, val accuracy: 0.066667\n",
      "Loss: 3.700238, Train accuracy: 0.800000, val accuracy: 0.066667\n",
      "Loss: 3.394686, Train accuracy: 0.800000, val accuracy: 0.066667\n",
      "Loss: 3.249400, Train accuracy: 0.800000, val accuracy: 0.066667\n",
      "Loss: 3.135444, Train accuracy: 0.800000, val accuracy: 0.066667\n",
      "Loss: 2.899941, Train accuracy: 0.800000, val accuracy: 0.066667\n",
      "Loss: 2.816034, Train accuracy: 0.800000, val accuracy: 0.066667\n",
      "Loss: 2.678624, Train accuracy: 0.800000, val accuracy: 0.066667\n",
      "Loss: 2.559784, Train accuracy: 0.866667, val accuracy: 0.066667\n",
      "Loss: 2.482768, Train accuracy: 0.933333, val accuracy: 0.066667\n",
      "Loss: 2.335386, Train accuracy: 0.866667, val accuracy: 0.066667\n",
      "Loss: 2.243496, Train accuracy: 0.933333, val accuracy: 0.066667\n",
      "Loss: 2.142739, Train accuracy: 0.866667, val accuracy: 0.066667\n",
      "Loss: 1.991834, Train accuracy: 1.000000, val accuracy: 0.066667\n",
      "Loss: 1.831443, Train accuracy: 1.000000, val accuracy: 0.066667\n",
      "Loss: 1.709558, Train accuracy: 1.000000, val accuracy: 0.066667\n",
      "Loss: 1.585510, Train accuracy: 1.000000, val accuracy: 0.066667\n",
      "Loss: 1.419484, Train accuracy: 1.000000, val accuracy: 0.066667\n",
      "Loss: 1.255423, Train accuracy: 1.000000, val accuracy: 0.066667\n",
      "Loss: 1.128971, Train accuracy: 1.000000, val accuracy: 0.066667\n",
      "Loss: 0.989829, Train accuracy: 1.000000, val accuracy: 0.066667\n",
      "Loss: 0.875278, Train accuracy: 1.000000, val accuracy: 0.066667\n",
      "Loss: 0.786393, Train accuracy: 1.000000, val accuracy: 0.066667\n",
      "Loss: 0.692366, Train accuracy: 1.000000, val accuracy: 0.066667\n",
      "Loss: 0.607132, Train accuracy: 1.000000, val accuracy: 0.066667\n",
      "Loss: 0.535770, Train accuracy: 1.000000, val accuracy: 0.000000\n",
      "Loss: 0.482854, Train accuracy: 1.000000, val accuracy: 0.000000\n",
      "Loss: 0.429015, Train accuracy: 1.000000, val accuracy: 0.000000\n",
      "Loss: 0.397478, Train accuracy: 1.000000, val accuracy: 0.000000\n",
      "Loss: 0.356081, Train accuracy: 1.000000, val accuracy: 0.000000\n",
      "Loss: 0.332127, Train accuracy: 1.000000, val accuracy: 0.000000\n",
      "Loss: 0.303281, Train accuracy: 1.000000, val accuracy: 0.000000\n",
      "Loss: 0.286515, Train accuracy: 1.000000, val accuracy: 0.000000\n",
      "Loss: 0.264840, Train accuracy: 1.000000, val accuracy: 0.000000\n",
      "Loss: 0.247283, Train accuracy: 1.000000, val accuracy: 0.000000\n",
      "Loss: 0.232766, Train accuracy: 1.000000, val accuracy: 0.000000\n",
      "Loss: 0.217101, Train accuracy: 1.000000, val accuracy: 0.000000\n",
      "Loss: 0.203803, Train accuracy: 1.000000, val accuracy: 0.000000\n",
      "Loss: 0.193703, Train accuracy: 1.000000, val accuracy: 0.000000\n",
      "Loss: 0.183629, Train accuracy: 1.000000, val accuracy: 0.000000\n",
      "Loss: 0.174853, Train accuracy: 1.000000, val accuracy: 0.000000\n",
      "Loss: 0.165694, Train accuracy: 1.000000, val accuracy: 0.000000\n",
      "Loss: 0.157095, Train accuracy: 1.000000, val accuracy: 0.000000\n",
      "Loss: 0.150412, Train accuracy: 1.000000, val accuracy: 0.000000\n",
      "Loss: 0.143719, Train accuracy: 1.000000, val accuracy: 0.000000\n",
      "Loss: 0.138391, Train accuracy: 1.000000, val accuracy: 0.000000\n",
      "Loss: 0.131292, Train accuracy: 1.000000, val accuracy: 0.000000\n",
      "Loss: 0.126765, Train accuracy: 1.000000, val accuracy: 0.000000\n",
      "Loss: 0.122973, Train accuracy: 1.000000, val accuracy: 0.000000\n",
      "Loss: 0.116824, Train accuracy: 1.000000, val accuracy: 0.000000\n",
      "Loss: 0.113388, Train accuracy: 1.000000, val accuracy: 0.000000\n",
      "Loss: 0.109197, Train accuracy: 1.000000, val accuracy: 0.000000\n",
      "Loss: 0.105102, Train accuracy: 1.000000, val accuracy: 0.000000\n",
      "Loss: 0.102247, Train accuracy: 1.000000, val accuracy: 0.000000\n",
      "Loss: 0.098301, Train accuracy: 1.000000, val accuracy: 0.000000\n",
      "Loss: 0.095511, Train accuracy: 1.000000, val accuracy: 0.000000\n",
      "Loss: 0.092288, Train accuracy: 1.000000, val accuracy: 0.000000\n",
      "Loss: 0.089772, Train accuracy: 1.000000, val accuracy: 0.000000\n",
      "Loss: 0.086862, Train accuracy: 1.000000, val accuracy: 0.000000\n",
      "Loss: 0.084879, Train accuracy: 1.000000, val accuracy: 0.000000\n",
      "Loss: 0.082322, Train accuracy: 1.000000, val accuracy: 0.000000\n",
      "Loss: 0.079986, Train accuracy: 1.000000, val accuracy: 0.000000\n",
      "Loss: 0.077868, Train accuracy: 1.000000, val accuracy: 0.000000\n",
      "Loss: 0.075940, Train accuracy: 1.000000, val accuracy: 0.000000\n",
      "Loss: 0.073961, Train accuracy: 1.000000, val accuracy: 0.000000\n",
      "Loss: 0.071977, Train accuracy: 1.000000, val accuracy: 0.000000\n",
      "Loss: 0.070243, Train accuracy: 1.000000, val accuracy: 0.000000\n",
      "Loss: 0.068545, Train accuracy: 1.000000, val accuracy: 0.000000\n",
      "Loss: 0.066985, Train accuracy: 1.000000, val accuracy: 0.000000\n",
      "Loss: 0.065246, Train accuracy: 1.000000, val accuracy: 0.000000\n",
      "Loss: 0.063798, Train accuracy: 1.000000, val accuracy: 0.000000\n",
      "Loss: 0.062323, Train accuracy: 1.000000, val accuracy: 0.000000\n",
      "Loss: 0.061070, Train accuracy: 1.000000, val accuracy: 0.000000\n",
      "Loss: 0.059515, Train accuracy: 1.000000, val accuracy: 0.000000\n",
      "Loss: 0.058294, Train accuracy: 1.000000, val accuracy: 0.000000\n",
      "Loss: 0.056908, Train accuracy: 1.000000, val accuracy: 0.000000\n",
      "Loss: 0.055960, Train accuracy: 1.000000, val accuracy: 0.000000\n",
      "Loss: 0.054757, Train accuracy: 1.000000, val accuracy: 0.000000\n",
      "Loss: 0.053637, Train accuracy: 1.000000, val accuracy: 0.000000\n",
      "Loss: 0.052575, Train accuracy: 1.000000, val accuracy: 0.000000\n",
      "Loss: 0.051632, Train accuracy: 1.000000, val accuracy: 0.000000\n",
      "Loss: 0.050803, Train accuracy: 1.000000, val accuracy: 0.000000\n",
      "Loss: 0.049749, Train accuracy: 1.000000, val accuracy: 0.000000\n",
      "Loss: 0.048708, Train accuracy: 1.000000, val accuracy: 0.000000\n",
      "Loss: 0.047833, Train accuracy: 1.000000, val accuracy: 0.000000\n",
      "Loss: 0.047209, Train accuracy: 1.000000, val accuracy: 0.000000\n",
      "Loss: 0.046351, Train accuracy: 1.000000, val accuracy: 0.000000\n",
      "Loss: 0.045475, Train accuracy: 1.000000, val accuracy: 0.000000\n",
      "Loss: 0.044521, Train accuracy: 1.000000, val accuracy: 0.000000\n",
      "Loss: 0.043891, Train accuracy: 1.000000, val accuracy: 0.000000\n",
      "Loss: 0.043120, Train accuracy: 1.000000, val accuracy: 0.000000\n",
      "Loss: 0.042491, Train accuracy: 1.000000, val accuracy: 0.000000\n",
      "Loss: 0.041707, Train accuracy: 1.000000, val accuracy: 0.000000\n",
      "Loss: 0.041098, Train accuracy: 1.000000, val accuracy: 0.000000\n",
      "Loss: 0.040379, Train accuracy: 1.000000, val accuracy: 0.000000\n",
      "Loss: 0.039686, Train accuracy: 1.000000, val accuracy: 0.000000\n",
      "Loss: 0.039215, Train accuracy: 1.000000, val accuracy: 0.000000\n",
      "Loss: 0.038613, Train accuracy: 1.000000, val accuracy: 0.000000\n",
      "Loss: 0.038105, Train accuracy: 1.000000, val accuracy: 0.000000\n",
      "Loss: 0.037521, Train accuracy: 1.000000, val accuracy: 0.000000\n"
     ]
    },
    {
     "name": "stdout",
     "output_type": "stream",
     "text": [
      "Loss: 0.036930, Train accuracy: 1.000000, val accuracy: 0.000000\n",
      "Loss: 0.036280, Train accuracy: 1.000000, val accuracy: 0.000000\n",
      "Loss: 0.035836, Train accuracy: 1.000000, val accuracy: 0.000000\n",
      "Loss: 0.035256, Train accuracy: 1.000000, val accuracy: 0.000000\n",
      "Loss: 0.034821, Train accuracy: 1.000000, val accuracy: 0.000000\n",
      "Loss: 0.034276, Train accuracy: 1.000000, val accuracy: 0.000000\n",
      "Loss: 0.033847, Train accuracy: 1.000000, val accuracy: 0.000000\n",
      "Loss: 0.033450, Train accuracy: 1.000000, val accuracy: 0.000000\n",
      "Loss: 0.032950, Train accuracy: 1.000000, val accuracy: 0.000000\n",
      "Loss: 0.032504, Train accuracy: 1.000000, val accuracy: 0.000000\n",
      "Loss: 0.032052, Train accuracy: 1.000000, val accuracy: 0.000000\n",
      "Loss: 0.031643, Train accuracy: 1.000000, val accuracy: 0.000000\n",
      "Loss: 0.031292, Train accuracy: 1.000000, val accuracy: 0.000000\n",
      "Loss: 0.030867, Train accuracy: 1.000000, val accuracy: 0.000000\n",
      "Loss: 0.030490, Train accuracy: 1.000000, val accuracy: 0.000000\n",
      "Loss: 0.030144, Train accuracy: 1.000000, val accuracy: 0.000000\n"
     ]
    }
   ],
   "source": [
    "data_size = 15\n",
    "model = TwoLayerNet(n_input = train_X.shape[1], n_output = 10, hidden_layer_size = 100, reg = 1e-10)\n",
    "dataset = Dataset(train_X[:data_size], train_y[:data_size], val_X[:data_size], val_y[:data_size])\n",
    "trainer = Trainer(model, dataset, SGD(), learning_rate=1e-1, num_epochs=150, batch_size=5)\n",
    "\n",
    "# You should expect this to reach 1.0 training accuracy \n",
    "loss_history, train_history, val_history = trainer.fit()"
   ]
  },
  {
   "cell_type": "markdown",
   "metadata": {},
   "source": [
    "Теперь найдем гипепараметры, для которых этот процесс сходится быстрее.\n",
    "Если все реализовано корректно, то существуют параметры, при которых процесс сходится в **20** эпох или еще быстрее.\n",
    "Найдите их!"
   ]
  },
  {
   "cell_type": "code",
   "execution_count": 17,
   "metadata": {},
   "outputs": [
    {
     "name": "stdout",
     "output_type": "stream",
     "text": [
      "Loss: 17.278099, Train accuracy: 0.200000, val accuracy: 0.133333\n",
      "Loss: 17.080763, Train accuracy: 0.200000, val accuracy: 0.133333\n",
      "Loss: 16.920142, Train accuracy: 0.266667, val accuracy: 0.000000\n",
      "Loss: 16.475482, Train accuracy: 0.266667, val accuracy: 0.000000\n",
      "Loss: 15.318301, Train accuracy: 0.200000, val accuracy: 0.133333\n",
      "Loss: 14.999814, Train accuracy: 0.400000, val accuracy: 0.000000\n",
      "Loss: 13.332952, Train accuracy: 0.333333, val accuracy: 0.066667\n",
      "Loss: 13.593204, Train accuracy: 0.466667, val accuracy: 0.066667\n",
      "Loss: 10.988697, Train accuracy: 0.400000, val accuracy: 0.000000\n",
      "Loss: 16.426625, Train accuracy: 0.466667, val accuracy: 0.066667\n",
      "Loss: 16.487646, Train accuracy: 0.466667, val accuracy: 0.000000\n",
      "Loss: 17.879945, Train accuracy: 0.466667, val accuracy: 0.000000\n",
      "Loss: 32.487309, Train accuracy: 0.466667, val accuracy: 0.000000\n",
      "Loss: 10.284582, Train accuracy: 0.533333, val accuracy: 0.000000\n",
      "Loss: 8.114389, Train accuracy: 0.600000, val accuracy: 0.066667\n",
      "Loss: 8.067853, Train accuracy: 0.866667, val accuracy: 0.000000\n",
      "Loss: 4.803585, Train accuracy: 0.866667, val accuracy: 0.000000\n",
      "Loss: 3.861743, Train accuracy: 0.866667, val accuracy: 0.000000\n",
      "Loss: 3.106521, Train accuracy: 0.933333, val accuracy: 0.000000\n",
      "Loss: 2.416368, Train accuracy: 1.000000, val accuracy: 0.000000\n"
     ]
    }
   ],
   "source": [
    "# Now, tweak some hyper parameters and make it train to 1.0 accuracy in 20 epochs or less\n",
    "\n",
    "model = TwoLayerNet(n_input = train_X.shape[1], n_output = 10, hidden_layer_size = 100, reg = 1e-10)\n",
    "dataset = Dataset(train_X[:data_size], train_y[:data_size], val_X[:data_size], val_y[:data_size])\n",
    "# TODO: Change any hyperparamers or optimizators to reach training accuracy in 20 epochs\n",
    "trainer = Trainer(model, dataset, SGD(), learning_rate=0.4, num_epochs=20, batch_size=9)\n",
    "\n",
    "loss_history, train_history, val_history = trainer.fit()"
   ]
  },
  {
   "cell_type": "markdown",
   "metadata": {},
   "source": [
    "# Итак, основное мероприятие!\n",
    "\n",
    "Натренируйте лучшую нейросеть! Можно добавлять и изменять параметры, менять количество нейронов в слоях сети и как угодно экспериментировать. \n",
    "\n",
    "Добейтесь точности лучше **60%** на validation set."
   ]
  },
  {
   "cell_type": "code",
   "execution_count": 39,
   "metadata": {
    "scrolled": true
   },
   "outputs": [
    {
     "name": "stdout",
     "output_type": "stream",
     "text": [
      "Loss: 561.824235, Train accuracy: 0.196667, val accuracy: 0.206000\n",
      "Loss: 552.841830, Train accuracy: 0.198000, val accuracy: 0.207000\n",
      "Loss: 511.587924, Train accuracy: 0.317333, val accuracy: 0.317000\n",
      "Loss: 435.145829, Train accuracy: 0.467111, val accuracy: 0.462000\n",
      "Loss: 367.877462, Train accuracy: 0.551333, val accuracy: 0.536000\n",
      "Loss: 322.439479, Train accuracy: 0.613111, val accuracy: 0.605000\n",
      "Loss: 289.018759, Train accuracy: 0.671111, val accuracy: 0.655000\n",
      "Loss: 261.468161, Train accuracy: 0.685778, val accuracy: 0.655000\n",
      "Loss: 242.489222, Train accuracy: 0.703444, val accuracy: 0.696000\n",
      "Loss: 236.002532, Train accuracy: 0.731000, val accuracy: 0.694000\n",
      "Loss: 225.436439, Train accuracy: 0.734111, val accuracy: 0.701000\n",
      "Loss: 211.488385, Train accuracy: 0.751222, val accuracy: 0.703000\n",
      "Loss: 196.836538, Train accuracy: 0.774667, val accuracy: 0.714000\n",
      "Loss: 189.018456, Train accuracy: 0.756667, val accuracy: 0.714000\n",
      "Loss: 185.008720, Train accuracy: 0.793556, val accuracy: 0.728000\n",
      "Loss: 171.651390, Train accuracy: 0.797444, val accuracy: 0.723000\n",
      "Loss: 173.711107, Train accuracy: 0.811111, val accuracy: 0.732000\n",
      "Loss: 165.595553, Train accuracy: 0.808889, val accuracy: 0.719000\n",
      "Loss: 158.309880, Train accuracy: 0.820667, val accuracy: 0.736000\n",
      "Loss: 151.288522, Train accuracy: 0.827444, val accuracy: 0.727000\n",
      "Loss: 147.172634, Train accuracy: 0.831444, val accuracy: 0.744000\n",
      "Loss: 144.169912, Train accuracy: 0.852222, val accuracy: 0.748000\n",
      "Loss: 138.212097, Train accuracy: 0.841778, val accuracy: 0.740000\n",
      "Loss: 136.213995, Train accuracy: 0.861444, val accuracy: 0.770000\n",
      "Loss: 129.624825, Train accuracy: 0.860444, val accuracy: 0.755000\n",
      "Loss: 127.571669, Train accuracy: 0.867333, val accuracy: 0.755000\n",
      "Loss: 124.885332, Train accuracy: 0.865111, val accuracy: 0.761000\n",
      "Loss: 122.247420, Train accuracy: 0.874556, val accuracy: 0.759000\n",
      "Loss: 120.504597, Train accuracy: 0.870556, val accuracy: 0.759000\n",
      "Loss: 116.494828, Train accuracy: 0.877333, val accuracy: 0.748000\n",
      "Loss: 114.513041, Train accuracy: 0.876556, val accuracy: 0.757000\n",
      "Loss: 112.923457, Train accuracy: 0.885778, val accuracy: 0.765000\n",
      "Loss: 110.040529, Train accuracy: 0.891111, val accuracy: 0.759000\n",
      "Loss: 107.333328, Train accuracy: 0.891000, val accuracy: 0.759000\n",
      "Loss: 106.289166, Train accuracy: 0.896889, val accuracy: 0.757000\n",
      "Loss: 105.645225, Train accuracy: 0.894667, val accuracy: 0.763000\n",
      "Loss: 102.219928, Train accuracy: 0.901667, val accuracy: 0.758000\n",
      "Loss: 100.815744, Train accuracy: 0.898000, val accuracy: 0.762000\n",
      "Loss: 98.999527, Train accuracy: 0.903667, val accuracy: 0.760000\n",
      "Loss: 98.396284, Train accuracy: 0.902222, val accuracy: 0.767000\n",
      "Loss: 98.337877, Train accuracy: 0.905000, val accuracy: 0.763000\n",
      "Loss: 95.250790, Train accuracy: 0.906667, val accuracy: 0.758000\n",
      "Loss: 94.586111, Train accuracy: 0.912000, val accuracy: 0.770000\n",
      "Loss: 94.688471, Train accuracy: 0.910000, val accuracy: 0.761000\n",
      "Loss: 92.496838, Train accuracy: 0.912222, val accuracy: 0.769000\n",
      "Loss: 91.358469, Train accuracy: 0.915667, val accuracy: 0.766000\n",
      "Loss: 90.851727, Train accuracy: 0.914111, val accuracy: 0.768000\n",
      "Loss: 90.076701, Train accuracy: 0.916778, val accuracy: 0.768000\n",
      "Loss: 89.722517, Train accuracy: 0.913333, val accuracy: 0.770000\n",
      "Loss: 90.457013, Train accuracy: 0.916000, val accuracy: 0.775000\n",
      "Loss: 88.636462, Train accuracy: 0.918222, val accuracy: 0.769000\n",
      "Loss: 87.559639, Train accuracy: 0.919556, val accuracy: 0.775000\n",
      "Loss: 87.162518, Train accuracy: 0.921778, val accuracy: 0.766000\n",
      "Loss: 86.372626, Train accuracy: 0.922222, val accuracy: 0.767000\n",
      "Loss: 86.467762, Train accuracy: 0.920333, val accuracy: 0.773000\n",
      "Loss: 85.490023, Train accuracy: 0.923778, val accuracy: 0.769000\n",
      "Loss: 84.891369, Train accuracy: 0.922667, val accuracy: 0.771000\n",
      "Loss: 84.602650, Train accuracy: 0.925111, val accuracy: 0.771000\n",
      "Loss: 83.957343, Train accuracy: 0.923333, val accuracy: 0.773000\n",
      "Loss: 83.649712, Train accuracy: 0.925667, val accuracy: 0.767000\n",
      "Loss: 83.262984, Train accuracy: 0.926111, val accuracy: 0.771000\n",
      "Loss: 82.956996, Train accuracy: 0.926667, val accuracy: 0.768000\n",
      "Loss: 82.522421, Train accuracy: 0.926444, val accuracy: 0.770000\n",
      "Loss: 82.246337, Train accuracy: 0.926000, val accuracy: 0.770000\n",
      "Loss: 82.014012, Train accuracy: 0.926778, val accuracy: 0.773000\n",
      "Loss: 81.617096, Train accuracy: 0.925333, val accuracy: 0.770000\n",
      "Loss: 81.738024, Train accuracy: 0.928667, val accuracy: 0.771000\n",
      "Loss: 81.387533, Train accuracy: 0.929000, val accuracy: 0.770000\n",
      "Loss: 81.148299, Train accuracy: 0.927000, val accuracy: 0.770000\n",
      "Loss: 80.763182, Train accuracy: 0.928556, val accuracy: 0.771000\n",
      "Loss: 80.545281, Train accuracy: 0.928222, val accuracy: 0.770000\n",
      "Loss: 80.456311, Train accuracy: 0.929000, val accuracy: 0.772000\n",
      "Loss: 80.257648, Train accuracy: 0.930111, val accuracy: 0.773000\n",
      "Loss: 80.032638, Train accuracy: 0.930000, val accuracy: 0.772000\n",
      "Loss: 79.947347, Train accuracy: 0.930222, val accuracy: 0.772000\n",
      "Loss: 79.569593, Train accuracy: 0.929667, val accuracy: 0.775000\n",
      "Loss: 79.590206, Train accuracy: 0.930889, val accuracy: 0.774000\n",
      "Loss: 79.280564, Train accuracy: 0.930444, val accuracy: 0.774000\n",
      "Loss: 79.259477, Train accuracy: 0.930667, val accuracy: 0.772000\n",
      "Loss: 79.214453, Train accuracy: 0.931111, val accuracy: 0.775000\n",
      "Loss: 78.998071, Train accuracy: 0.928667, val accuracy: 0.770000\n",
      "Loss: 78.966661, Train accuracy: 0.931889, val accuracy: 0.775000\n",
      "Loss: 78.780033, Train accuracy: 0.931667, val accuracy: 0.772000\n",
      "Loss: 78.644256, Train accuracy: 0.931000, val accuracy: 0.772000\n",
      "Loss: 78.503261, Train accuracy: 0.931222, val accuracy: 0.771000\n",
      "Loss: 78.544180, Train accuracy: 0.932000, val accuracy: 0.772000\n",
      "Loss: 78.413208, Train accuracy: 0.931778, val accuracy: 0.772000\n",
      "Loss: 78.315144, Train accuracy: 0.932000, val accuracy: 0.772000\n",
      "Loss: 78.233018, Train accuracy: 0.931667, val accuracy: 0.771000\n",
      "Loss: 78.181614, Train accuracy: 0.931889, val accuracy: 0.773000\n",
      "Loss: 78.053947, Train accuracy: 0.932111, val accuracy: 0.773000\n",
      "Loss: 77.988899, Train accuracy: 0.932222, val accuracy: 0.773000\n",
      "Loss: 77.879973, Train accuracy: 0.932222, val accuracy: 0.771000\n",
      "Loss: 77.873504, Train accuracy: 0.931889, val accuracy: 0.772000\n",
      "Loss: 77.778815, Train accuracy: 0.932111, val accuracy: 0.772000\n",
      "Loss: 77.738356, Train accuracy: 0.932444, val accuracy: 0.773000\n",
      "Loss: 77.702681, Train accuracy: 0.931889, val accuracy: 0.774000\n",
      "Loss: 77.649478, Train accuracy: 0.932333, val accuracy: 0.772000\n",
      "Loss: 77.575841, Train accuracy: 0.932556, val accuracy: 0.772000\n",
      "Loss: 77.539786, Train accuracy: 0.932111, val accuracy: 0.772000\n",
      "best validation accuracy achieved: 0.775000\n"
     ]
    }
   ],
   "source": [
    "# Let's train the best one-hidden-layer network we can\n",
    "\n",
    "learning_rates = 1e-4\n",
    "reg_strength = 1e-3\n",
    "learning_rate_decay = 0.999\n",
    "hidden_layer_size = 128\n",
    "num_epochs = 200\n",
    "batch_size = 64\n",
    "\n",
    "best_classifier = None\n",
    "best_val_accuracy = None\n",
    "\n",
    "loss_history = []\n",
    "train_history = []\n",
    "val_history = []\n",
    "\n",
    "# TODO find the best hyperparameters to train the network\n",
    "# Don't hesitate to add new values to the arrays above, perform experiments, use any tricks you want\n",
    "# You should expect to get to at least 40% of valudation accuracy\n",
    "# Save loss/train/history of the best classifier to the variables above\n",
    "model = TwoLayerNet(n_input = train_X.shape[1], n_output = 10, hidden_layer_size = 200, reg = 4e-4)\n",
    "dataset = Dataset(train_X, train_y, val_X, val_y)\n",
    "trainer = Trainer(model, dataset, MomentumSGD(), learning_rate=1e-1,\\\n",
    "                  learning_rate_decay=0.95, num_epochs=100, batch_size=256)\n",
    "loss_history, train_history, val_history = trainer.fit()\n",
    "best_val_accuracy = max(val_history)\n",
    "best_classifier = model\n",
    "print('best validation accuracy achieved: %f' % best_val_accuracy)"
   ]
  },
  {
   "cell_type": "code",
   "execution_count": 40,
   "metadata": {},
   "outputs": [
    {
     "data": {
      "text/plain": [
       "[<matplotlib.lines.Line2D at 0x7f3734ad4908>]"
      ]
     },
     "execution_count": 40,
     "metadata": {},
     "output_type": "execute_result"
    },
    {
     "data": {
      "image/png": "[encoded data removed]",
      "text/plain": [
       "<Figure size 1080x504 with 2 Axes>"
      ]
     },
     "metadata": {},
     "output_type": "display_data"
    }
   ],
   "source": [
    "plt.figure(figsize=(15, 7))\n",
    "plt.subplot(211)\n",
    "plt.title(\"Loss\")\n",
    "plt.plot(loss_history)\n",
    "plt.subplot(212)\n",
    "plt.title(\"Train/validation accuracy\")\n",
    "plt.plot(train_history)\n",
    "plt.plot(val_history)"
   ]
  },
  {
   "cell_type": "markdown",
   "metadata": {},
   "source": [
    "# Как обычно, посмотрим, как наша лучшая модель работает на тестовых данных"
   ]
  },
  {
   "cell_type": "code",
   "execution_count": 41,
   "metadata": {},
   "outputs": [
    {
     "name": "stdout",
     "output_type": "stream",
     "text": [
      "Neural net test set accuracy: 0.748000\n"
     ]
    }
   ],
   "source": [
    "test_pred = best_classifier.predict(test_X)\n",
    "test_accuracy = multiclass_accuracy(test_pred, test_y)\n",
    "print('Neural net test set accuracy: %f' % (test_accuracy, ))"
   ]
  }
 ],
 "metadata": {
  "kernelspec": {
   "display_name": "Python 3",
   "language": "python",
   "name": "python3"
  },
  "language_info": {
   "codemirror_mode": {
    "name": "ipython",
    "version": 3
   },
   "file_extension": ".py",
   "mimetype": "text/x-python",
   "name": "python",
   "nbconvert_exporter": "python",
   "pygments_lexer": "ipython3",
   "version": "3.6.8"
  }
 },
 "nbformat": 4,
 "nbformat_minor": 2
}
